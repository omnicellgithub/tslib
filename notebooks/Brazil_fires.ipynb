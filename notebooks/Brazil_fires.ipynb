{
 "cells": [
  {
   "cell_type": "code",
   "execution_count": 1,
   "metadata": {},
   "outputs": [],
   "source": [
    "import sys, os\n",
    "sys.path.append(\"../..\")\n",
    "sys.path.append(\"..\")\n",
    "sys.path.append(os.getcwd())\n",
    "\n",
    "from matplotlib import pyplot as plt\n",
    "import matplotlib.ticker as ticker\n",
    "import matplotlib.dates as mdates\n",
    "\n",
    "\n",
    "\n",
    "import numpy as np\n",
    "import pandas as pd\n",
    "import copy\n",
    "\n",
    "from tslib.src import tsUtils\n",
    "from tslib.src.synthcontrol.syntheticControl import RobustSyntheticControl\n",
    "from tslib.tests import testdata"
   ]
  },
  {
   "cell_type": "code",
   "execution_count": 2,
   "metadata": {},
   "outputs": [],
   "source": [
    "\n",
    "\n",
    "filename = r'..\\tests\\testdata\\BrazilFires.csv'\n",
    "\n",
    "\n",
    "df = pd.read_csv(filename, index_col='YR')\n",
    "allColumns = df.columns.values    "
   ]
  },
  {
   "cell_type": "code",
   "execution_count": 3,
   "metadata": {},
   "outputs": [
    {
     "data": {
      "text/html": [
       "<div>\n",
       "<style scoped>\n",
       "    .dataframe tbody tr th:only-of-type {\n",
       "        vertical-align: middle;\n",
       "    }\n",
       "\n",
       "    .dataframe tbody tr th {\n",
       "        vertical-align: top;\n",
       "    }\n",
       "\n",
       "    .dataframe thead th {\n",
       "        text-align: right;\n",
       "    }\n",
       "</style>\n",
       "<table border=\"1\" class=\"dataframe\">\n",
       "  <thead>\n",
       "    <tr style=\"text-align: right;\">\n",
       "      <th></th>\n",
       "      <th>AC_FIRES</th>\n",
       "      <th>AL_FIRES</th>\n",
       "      <th>AM_FIRES</th>\n",
       "      <th>BA_FIRES</th>\n",
       "      <th>CE_FIRES</th>\n",
       "      <th>...</th>\n",
       "      <th>RI_FIRES</th>\n",
       "      <th>RO_FIRES</th>\n",
       "      <th>SA_FIRES</th>\n",
       "      <th>SE_FIRES</th>\n",
       "      <th>TO_FIRES</th>\n",
       "    </tr>\n",
       "    <tr>\n",
       "      <th>YR</th>\n",
       "      <th></th>\n",
       "      <th></th>\n",
       "      <th></th>\n",
       "      <th></th>\n",
       "      <th></th>\n",
       "      <th></th>\n",
       "      <th></th>\n",
       "      <th></th>\n",
       "      <th></th>\n",
       "      <th></th>\n",
       "      <th></th>\n",
       "    </tr>\n",
       "  </thead>\n",
       "  <tbody>\n",
       "    <tr>\n",
       "      <th>2004</th>\n",
       "      <td>3160</td>\n",
       "      <td>159</td>\n",
       "      <td>5765</td>\n",
       "      <td>10423</td>\n",
       "      <td>4780</td>\n",
       "      <td>...</td>\n",
       "      <td>3437</td>\n",
       "      <td>14878</td>\n",
       "      <td>5819</td>\n",
       "      <td>190</td>\n",
       "      <td>12202</td>\n",
       "    </tr>\n",
       "    <tr>\n",
       "      <th>2005</th>\n",
       "      <td>9427</td>\n",
       "      <td>217</td>\n",
       "      <td>8051</td>\n",
       "      <td>16410</td>\n",
       "      <td>4672</td>\n",
       "      <td>...</td>\n",
       "      <td>2297</td>\n",
       "      <td>25718</td>\n",
       "      <td>3606</td>\n",
       "      <td>200</td>\n",
       "      <td>10885</td>\n",
       "    </tr>\n",
       "    <tr>\n",
       "      <th>2006</th>\n",
       "      <td>1456</td>\n",
       "      <td>161</td>\n",
       "      <td>5451</td>\n",
       "      <td>7589</td>\n",
       "      <td>3280</td>\n",
       "      <td>...</td>\n",
       "      <td>2501</td>\n",
       "      <td>7175</td>\n",
       "      <td>4064</td>\n",
       "      <td>147</td>\n",
       "      <td>6429</td>\n",
       "    </tr>\n",
       "    <tr>\n",
       "      <th>2007</th>\n",
       "      <td>1419</td>\n",
       "      <td>128</td>\n",
       "      <td>3403</td>\n",
       "      <td>20471</td>\n",
       "      <td>4329</td>\n",
       "      <td>...</td>\n",
       "      <td>2067</td>\n",
       "      <td>15886</td>\n",
       "      <td>3107</td>\n",
       "      <td>124</td>\n",
       "      <td>15974</td>\n",
       "    </tr>\n",
       "    <tr>\n",
       "      <th>2008</th>\n",
       "      <td>2808</td>\n",
       "      <td>277</td>\n",
       "      <td>3502</td>\n",
       "      <td>17600</td>\n",
       "      <td>4617</td>\n",
       "      <td>...</td>\n",
       "      <td>1217</td>\n",
       "      <td>7841</td>\n",
       "      <td>1740</td>\n",
       "      <td>243</td>\n",
       "      <td>4915</td>\n",
       "    </tr>\n",
       "  </tbody>\n",
       "</table>\n",
       "<p>5 rows × 18 columns</p>\n",
       "</div>"
      ],
      "text/plain": [
       "      AC_FIRES  AL_FIRES  AM_FIRES  BA_FIRES  CE_FIRES  ...  RI_FIRES  \\\n",
       "YR                                                      ...             \n",
       "2004      3160       159      5765     10423      4780  ...      3437   \n",
       "2005      9427       217      8051     16410      4672  ...      2297   \n",
       "2006      1456       161      5451      7589      3280  ...      2501   \n",
       "2007      1419       128      3403     20471      4329  ...      2067   \n",
       "2008      2808       277      3502     17600      4617  ...      1217   \n",
       "\n",
       "      RO_FIRES  SA_FIRES  SE_FIRES  TO_FIRES  \n",
       "YR                                            \n",
       "2004     14878      5819       190     12202  \n",
       "2005     25718      3606       200     10885  \n",
       "2006      7175      4064       147      6429  \n",
       "2007     15886      3107       124     15974  \n",
       "2008      7841      1740       243      4915  \n",
       "\n",
       "[5 rows x 18 columns]"
      ]
     },
     "execution_count": 3,
     "metadata": {},
     "output_type": "execute_result"
    }
   ],
   "source": [
    "pd.set_option('display.max_columns', 10)\n",
    "df.head()"
   ]
  },
  {
   "cell_type": "code",
   "execution_count": 4,
   "metadata": {},
   "outputs": [],
   "source": [
    "states = df.columns.values.tolist()\n",
    "StateKey = 'AM_FIRES'\n",
    "\n",
    "\n",
    "states.remove(StateKey)\n",
    "otherStates = states\n",
    "\n",
    "\n",
    "\n",
    "p = 1.0"
   ]
  },
  {
   "cell_type": "code",
   "execution_count": 5,
   "metadata": {},
   "outputs": [
    {
     "data": {
      "text/html": [
       "<div>\n",
       "<style scoped>\n",
       "    .dataframe tbody tr th:only-of-type {\n",
       "        vertical-align: middle;\n",
       "    }\n",
       "\n",
       "    .dataframe tbody tr th {\n",
       "        vertical-align: top;\n",
       "    }\n",
       "\n",
       "    .dataframe thead th {\n",
       "        text-align: right;\n",
       "    }\n",
       "</style>\n",
       "<table border=\"1\" class=\"dataframe\">\n",
       "  <thead>\n",
       "    <tr style=\"text-align: right;\">\n",
       "      <th></th>\n",
       "      <th>AC_FIRES</th>\n",
       "      <th>AL_FIRES</th>\n",
       "      <th>AM_FIRES</th>\n",
       "      <th>BA_FIRES</th>\n",
       "      <th>CE_FIRES</th>\n",
       "      <th>...</th>\n",
       "      <th>RI_FIRES</th>\n",
       "      <th>RO_FIRES</th>\n",
       "      <th>SA_FIRES</th>\n",
       "      <th>SE_FIRES</th>\n",
       "      <th>TO_FIRES</th>\n",
       "    </tr>\n",
       "  </thead>\n",
       "  <tbody>\n",
       "    <tr>\n",
       "      <th>0</th>\n",
       "      <td>3160</td>\n",
       "      <td>159</td>\n",
       "      <td>5765</td>\n",
       "      <td>10423</td>\n",
       "      <td>4780</td>\n",
       "      <td>...</td>\n",
       "      <td>3437</td>\n",
       "      <td>14878</td>\n",
       "      <td>5819</td>\n",
       "      <td>190</td>\n",
       "      <td>12202</td>\n",
       "    </tr>\n",
       "    <tr>\n",
       "      <th>1</th>\n",
       "      <td>9427</td>\n",
       "      <td>217</td>\n",
       "      <td>8051</td>\n",
       "      <td>16410</td>\n",
       "      <td>4672</td>\n",
       "      <td>...</td>\n",
       "      <td>2297</td>\n",
       "      <td>25718</td>\n",
       "      <td>3606</td>\n",
       "      <td>200</td>\n",
       "      <td>10885</td>\n",
       "    </tr>\n",
       "    <tr>\n",
       "      <th>2</th>\n",
       "      <td>1456</td>\n",
       "      <td>161</td>\n",
       "      <td>5451</td>\n",
       "      <td>7589</td>\n",
       "      <td>3280</td>\n",
       "      <td>...</td>\n",
       "      <td>2501</td>\n",
       "      <td>7175</td>\n",
       "      <td>4064</td>\n",
       "      <td>147</td>\n",
       "      <td>6429</td>\n",
       "    </tr>\n",
       "    <tr>\n",
       "      <th>3</th>\n",
       "      <td>1419</td>\n",
       "      <td>128</td>\n",
       "      <td>3403</td>\n",
       "      <td>20471</td>\n",
       "      <td>4329</td>\n",
       "      <td>...</td>\n",
       "      <td>2067</td>\n",
       "      <td>15886</td>\n",
       "      <td>3107</td>\n",
       "      <td>124</td>\n",
       "      <td>15974</td>\n",
       "    </tr>\n",
       "    <tr>\n",
       "      <th>4</th>\n",
       "      <td>2808</td>\n",
       "      <td>277</td>\n",
       "      <td>3502</td>\n",
       "      <td>17600</td>\n",
       "      <td>4617</td>\n",
       "      <td>...</td>\n",
       "      <td>1217</td>\n",
       "      <td>7841</td>\n",
       "      <td>1740</td>\n",
       "      <td>243</td>\n",
       "      <td>4915</td>\n",
       "    </tr>\n",
       "    <tr>\n",
       "      <th>5</th>\n",
       "      <td>2095</td>\n",
       "      <td>325</td>\n",
       "      <td>10042</td>\n",
       "      <td>5092</td>\n",
       "      <td>4567</td>\n",
       "      <td>...</td>\n",
       "      <td>2778</td>\n",
       "      <td>5783</td>\n",
       "      <td>2495</td>\n",
       "      <td>206</td>\n",
       "      <td>5749</td>\n",
       "    </tr>\n",
       "    <tr>\n",
       "      <th>6</th>\n",
       "      <td>4684</td>\n",
       "      <td>222</td>\n",
       "      <td>9547</td>\n",
       "      <td>15512</td>\n",
       "      <td>3738</td>\n",
       "      <td>...</td>\n",
       "      <td>2437</td>\n",
       "      <td>13315</td>\n",
       "      <td>6168</td>\n",
       "      <td>143</td>\n",
       "      <td>25069</td>\n",
       "    </tr>\n",
       "    <tr>\n",
       "      <th>7</th>\n",
       "      <td>1912</td>\n",
       "      <td>232</td>\n",
       "      <td>5288</td>\n",
       "      <td>13061</td>\n",
       "      <td>3773</td>\n",
       "      <td>...</td>\n",
       "      <td>2567</td>\n",
       "      <td>5623</td>\n",
       "      <td>4499</td>\n",
       "      <td>173</td>\n",
       "      <td>10387</td>\n",
       "    </tr>\n",
       "    <tr>\n",
       "      <th>8</th>\n",
       "      <td>3180</td>\n",
       "      <td>352</td>\n",
       "      <td>9848</td>\n",
       "      <td>17378</td>\n",
       "      <td>4040</td>\n",
       "      <td>...</td>\n",
       "      <td>2219</td>\n",
       "      <td>7422</td>\n",
       "      <td>3159</td>\n",
       "      <td>231</td>\n",
       "      <td>5294</td>\n",
       "    </tr>\n",
       "    <tr>\n",
       "      <th>9</th>\n",
       "      <td>3242</td>\n",
       "      <td>208</td>\n",
       "      <td>6093</td>\n",
       "      <td>7217</td>\n",
       "      <td>2898</td>\n",
       "      <td>...</td>\n",
       "      <td>1617</td>\n",
       "      <td>4656</td>\n",
       "      <td>3101</td>\n",
       "      <td>185</td>\n",
       "      <td>8127</td>\n",
       "    </tr>\n",
       "    <tr>\n",
       "      <th>10</th>\n",
       "      <td>2740</td>\n",
       "      <td>190</td>\n",
       "      <td>10778</td>\n",
       "      <td>7819</td>\n",
       "      <td>2512</td>\n",
       "      <td>...</td>\n",
       "      <td>3924</td>\n",
       "      <td>6700</td>\n",
       "      <td>5855</td>\n",
       "      <td>104</td>\n",
       "      <td>7748</td>\n",
       "    </tr>\n",
       "  </tbody>\n",
       "</table>\n",
       "<p>11 rows × 18 columns</p>\n",
       "</div>"
      ],
      "text/plain": [
       "    AC_FIRES  AL_FIRES  AM_FIRES  BA_FIRES  CE_FIRES  ...  RI_FIRES  RO_FIRES  \\\n",
       "0       3160       159      5765     10423      4780  ...      3437     14878   \n",
       "1       9427       217      8051     16410      4672  ...      2297     25718   \n",
       "2       1456       161      5451      7589      3280  ...      2501      7175   \n",
       "3       1419       128      3403     20471      4329  ...      2067     15886   \n",
       "4       2808       277      3502     17600      4617  ...      1217      7841   \n",
       "5       2095       325     10042      5092      4567  ...      2778      5783   \n",
       "6       4684       222      9547     15512      3738  ...      2437     13315   \n",
       "7       1912       232      5288     13061      3773  ...      2567      5623   \n",
       "8       3180       352      9848     17378      4040  ...      2219      7422   \n",
       "9       3242       208      6093      7217      2898  ...      1617      4656   \n",
       "10      2740       190     10778      7819      2512  ...      3924      6700   \n",
       "\n",
       "    SA_FIRES  SE_FIRES  TO_FIRES  \n",
       "0       5819       190     12202  \n",
       "1       3606       200     10885  \n",
       "2       4064       147      6429  \n",
       "3       3107       124     15974  \n",
       "4       1740       243      4915  \n",
       "5       2495       206      5749  \n",
       "6       6168       143     25069  \n",
       "7       4499       173     10387  \n",
       "8       3159       231      5294  \n",
       "9       3101       185      8127  \n",
       "10      5855       104      7748  \n",
       "\n",
       "[11 rows x 18 columns]"
      ]
     },
     "execution_count": 5,
     "metadata": {},
     "output_type": "execute_result"
    }
   ],
   "source": [
    "trainDF=df.head(11)\n",
    "trainDF.reset_index(drop=True, inplace=True)\n",
    "trainDF"
   ]
  },
  {
   "cell_type": "code",
   "execution_count": 6,
   "metadata": {},
   "outputs": [
    {
     "data": {
      "text/html": [
       "<div>\n",
       "<style scoped>\n",
       "    .dataframe tbody tr th:only-of-type {\n",
       "        vertical-align: middle;\n",
       "    }\n",
       "\n",
       "    .dataframe tbody tr th {\n",
       "        vertical-align: top;\n",
       "    }\n",
       "\n",
       "    .dataframe thead th {\n",
       "        text-align: right;\n",
       "    }\n",
       "</style>\n",
       "<table border=\"1\" class=\"dataframe\">\n",
       "  <thead>\n",
       "    <tr style=\"text-align: right;\">\n",
       "      <th></th>\n",
       "      <th>AC_FIRES</th>\n",
       "      <th>AL_FIRES</th>\n",
       "      <th>AM_FIRES</th>\n",
       "      <th>BA_FIRES</th>\n",
       "      <th>CE_FIRES</th>\n",
       "      <th>...</th>\n",
       "      <th>RI_FIRES</th>\n",
       "      <th>RO_FIRES</th>\n",
       "      <th>SA_FIRES</th>\n",
       "      <th>SE_FIRES</th>\n",
       "      <th>TO_FIRES</th>\n",
       "    </tr>\n",
       "  </thead>\n",
       "  <tbody>\n",
       "    <tr>\n",
       "      <th>0</th>\n",
       "      <td>5512</td>\n",
       "      <td>590</td>\n",
       "      <td>16536</td>\n",
       "      <td>18397</td>\n",
       "      <td>3420</td>\n",
       "      <td>...</td>\n",
       "      <td>2553</td>\n",
       "      <td>16472</td>\n",
       "      <td>2907</td>\n",
       "      <td>299</td>\n",
       "      <td>9123</td>\n",
       "    </tr>\n",
       "    <tr>\n",
       "      <th>1</th>\n",
       "      <td>6993</td>\n",
       "      <td>400</td>\n",
       "      <td>14676</td>\n",
       "      <td>6751</td>\n",
       "      <td>3245</td>\n",
       "      <td>...</td>\n",
       "      <td>4539</td>\n",
       "      <td>15223</td>\n",
       "      <td>5581</td>\n",
       "      <td>152</td>\n",
       "      <td>14854</td>\n",
       "    </tr>\n",
       "    <tr>\n",
       "      <th>2</th>\n",
       "      <td>7042</td>\n",
       "      <td>159</td>\n",
       "      <td>16263</td>\n",
       "      <td>8249</td>\n",
       "      <td>2555</td>\n",
       "      <td>...</td>\n",
       "      <td>4271</td>\n",
       "      <td>12062</td>\n",
       "      <td>7760</td>\n",
       "      <td>75</td>\n",
       "      <td>21129</td>\n",
       "    </tr>\n",
       "  </tbody>\n",
       "</table>\n",
       "<p>3 rows × 18 columns</p>\n",
       "</div>"
      ],
      "text/plain": [
       "   AC_FIRES  AL_FIRES  AM_FIRES  BA_FIRES  CE_FIRES  ...  RI_FIRES  RO_FIRES  \\\n",
       "0      5512       590     16536     18397      3420  ...      2553     16472   \n",
       "1      6993       400     14676      6751      3245  ...      4539     15223   \n",
       "2      7042       159     16263      8249      2555  ...      4271     12062   \n",
       "\n",
       "   SA_FIRES  SE_FIRES  TO_FIRES  \n",
       "0      2907       299      9123  \n",
       "1      5581       152     14854  \n",
       "2      7760        75     21129  \n",
       "\n",
       "[3 rows x 18 columns]"
      ]
     },
     "execution_count": 6,
     "metadata": {},
     "output_type": "execute_result"
    }
   ],
   "source": [
    "testDF=df.tail(3)\n",
    "testDF.reset_index(drop=True, inplace=True)\n",
    "testDF"
   ]
  },
  {
   "cell_type": "code",
   "execution_count": 7,
   "metadata": {},
   "outputs": [
    {
     "data": {
      "text/plain": [
       "Text(0.5,1,'Singular Value Spectrum')"
      ]
     },
     "execution_count": 7,
     "metadata": {},
     "output_type": "execute_result"
    },
    {
     "data": {
      "image/png": "[encoded data removed]",
      "text/plain": [
       "<matplotlib.figure.Figure at 0x28a4464e8d0>"
      ]
     },
     "metadata": {},
     "output_type": "display_data"
    },
    {
     "data": {
      "image/png": "[encoded data removed]",
      "text/plain": [
       "<matplotlib.figure.Figure at 0x28a34b1f0b8>"
      ]
     },
     "metadata": {},
     "output_type": "display_data"
    }
   ],
   "source": [
    "(U, s, Vh) = np.linalg.svd((trainDF) - np.mean(trainDF))\n",
    "s2 = np.power(s, 2)\n",
    "spectrum = np.cumsum(s2)/np.sum(s2)\n",
    "\n",
    "plt.plot(spectrum)\n",
    "plt.grid()\n",
    "plt.title(\"Cumulative energy\")\n",
    "plt.figure()\n",
    "plt.plot(s2)\n",
    "plt.grid()\n",
    "\n",
    "\n",
    "plt.xlabel(\"Ordered Singular Values\") \n",
    "plt.ylabel(\"Energy\")\n",
    "\n",
    "\n",
    "plt.title(\"Singular Value Spectrum\")\n"
   ]
  },
  {
   "cell_type": "code",
   "execution_count": 8,
   "metadata": {},
   "outputs": [
    {
     "data": {
      "text/plain": [
       "11"
      ]
     },
     "execution_count": 8,
     "metadata": {},
     "output_type": "execute_result"
    }
   ],
   "source": [
    "len(trainDF)"
   ]
  },
  {
   "cell_type": "code",
   "execution_count": 15,
   "metadata": {},
   "outputs": [],
   "source": [
    "singvals = 6\n",
    "rscModel = RobustSyntheticControl(StateKey, singvals, len(trainDF), probObservation=1.0, modelType='svd', svdMethod='numpy', otherSeriesKeysArray=otherStates)\n",
    "rscModel.fit(trainDF)\n",
    "denoisedDF = rscModel.model.denoisedDF()"
   ]
  },
  {
   "cell_type": "code",
   "execution_count": 16,
   "metadata": {},
   "outputs": [],
   "source": [
    "predictions = []\n",
    "predictions = np.dot(testDF[otherStates], rscModel.model.weights)\n",
    "actual = df[[StateKey]]\n",
    "actual.reset_index(inplace=True)\n",
    "years=actual['YR'].astype(str).tolist()\n",
    "trainingYears=years[0:11]\n",
    "testYears=years[11:14]\n",
    "\n",
    "model_fit = np.dot(trainDF[otherStates][:], rscModel.model.weights)\n",
    "\n",
    "actual=actual.reset_index(drop=True)\n"
   ]
  },
  {
   "cell_type": "code",
   "execution_count": 17,
   "metadata": {},
   "outputs": [
    {
     "data": {
      "text/plain": [
       "['2015', '2016', '2017']"
      ]
     },
     "execution_count": 17,
     "metadata": {},
     "output_type": "execute_result"
    }
   ],
   "source": [
    "testYears"
   ]
  },
  {
   "cell_type": "code",
   "execution_count": 18,
   "metadata": {},
   "outputs": [
    {
     "data": {
      "text/plain": [
       "array([ 0.26494435,  0.02317334, -0.0098751 ,  0.06981547,  0.00225515,\n",
       "        0.00784452,  0.10719027, -0.10713591, -0.37949492,  0.22990737,\n",
       "        0.01357819,  0.79381124,  0.09716656, -0.12092876,  0.12439117,\n",
       "        0.00885964,  0.09881415])"
      ]
     },
     "execution_count": 18,
     "metadata": {},
     "output_type": "execute_result"
    }
   ],
   "source": [
    "rscModel.model.weights"
   ]
  },
  {
   "cell_type": "code",
   "execution_count": 19,
   "metadata": {},
   "outputs": [
    {
     "data": {
      "text/plain": [
       "['AC_FIRES',\n",
       " 'AL_FIRES',\n",
       " 'BA_FIRES',\n",
       " 'CE_FIRES',\n",
       " 'DI_FIRES',\n",
       " 'ES_FIRES',\n",
       " 'GO_FIRES',\n",
       " 'MA_FIRES',\n",
       " 'MI_FIRES',\n",
       " 'PA_FIRES',\n",
       " 'PE_FIRES',\n",
       " 'PI_FIRES',\n",
       " 'RI_FIRES',\n",
       " 'RO_FIRES',\n",
       " 'SA_FIRES',\n",
       " 'SE_FIRES',\n",
       " 'TO_FIRES']"
      ]
     },
     "execution_count": 19,
     "metadata": {},
     "output_type": "execute_result"
    }
   ],
   "source": [
    "otherStates"
   ]
  },
  {
   "cell_type": "code",
   "execution_count": 20,
   "metadata": {},
   "outputs": [
    {
     "data": {
      "text/plain": [
       "<matplotlib.legend.Legend at 0x28a478762e8>"
      ]
     },
     "execution_count": 20,
     "metadata": {},
     "output_type": "execute_result"
    },
    {
     "data": {
      "image/png": "[encoded data removed]",
      "text/plain": [
       "<matplotlib.figure.Figure at 0x28a4778b208>"
      ]
     },
     "metadata": {},
     "output_type": "display_data"
    }
   ],
   "source": [
    "fig, ax = plt.subplots(1,1)\n",
    "tick_spacing = 1\n",
    "# this is a bug in matplotlib\n",
    "label_markings = np.insert(years[::tick_spacing], 0, 'dummy')\n",
    "\n",
    "ax.set_xticks(np.arange(len(label_markings)))\n",
    "ax.set_xticklabels(label_markings, rotation=45)\n",
    "ax.xaxis.set_major_locator(ticker.MultipleLocator(tick_spacing))\n",
    "\n",
    "plt.plot(years, actual[StateKey] ,label='actual')\n",
    "plt.xlabel('Year')\n",
    "plt.ylabel('Fires per year')\n",
    "\n",
    "plt.plot(trainingYears, model_fit, label='fitted model')\n",
    "plt.plot(testYears, predictions, label='counterfactual')\n",
    "plt.title(StateKey+', Singular Values used: '+str(singvals))\n",
    "\n",
    "yearTrainEnd='2014'\n",
    "xposition = pd.to_datetime(yearTrainEnd,  errors='coerce')\n",
    "plt.axvline(x=str(yearTrainEnd), color='k', linestyle='--', linewidth=4)\n",
    "plt.grid()\n",
    "plt.legend()"
   ]
  },
  {
   "cell_type": "code",
   "execution_count": null,
   "metadata": {},
   "outputs": [],
   "source": []
  },
  {
   "cell_type": "code",
   "execution_count": null,
   "metadata": {},
   "outputs": [],
   "source": []
  }
 ],
 "metadata": {
  "kernelspec": {
   "display_name": "Python 3",
   "language": "python",
   "name": "python3"
  },
  "language_info": {
   "codemirror_mode": {
    "name": "ipython",
    "version": 3
   },
   "file_extension": ".py",
   "mimetype": "text/x-python",
   "name": "python",
   "nbconvert_exporter": "python",
   "pygments_lexer": "ipython3",
   "version": "3.6.4"
  }
 },
 "nbformat": 4,
 "nbformat_minor": 2
}
